{
 "cells": [
  {
   "cell_type": "code",
   "execution_count": 1,
   "metadata": {},
   "outputs": [],
   "source": [
    "# importing libraries\n",
    "import pandas as pd\n",
    "import numpy as np\n",
    "import matplotlib as mpl\n",
    "import matplotlib.pyplot as plt\n",
    "%matplotlib inline\n",
    "mpl.style.use(['ggplot'])"
   ]
  },
  {
   "cell_type": "markdown",
   "metadata": {},
   "source": [
    "# Data Understanding"
   ]
  },
  {
   "cell_type": "markdown",
   "metadata": {},
   "source": [
    "## Label Selection"
   ]
  },
  {
   "cell_type": "code",
   "execution_count": null,
   "metadata": {
    "scrolled": true
   },
   "outputs": [
    {
     "name": "stdout",
     "output_type": "stream",
     "text": [
      "--2020-09-10 18:22:40--  https://s3.us.cloud-object-storage.appdomain.cloud/cf-courses-data/CognitiveClass/DP0701EN/version-2/Data-Collisions.csv\n",
      "Resolving s3.us.cloud-object-storage.appdomain.cloud (s3.us.cloud-object-storage.appdomain.cloud)... 67.228.254.196\n",
      "Connecting to s3.us.cloud-object-storage.appdomain.cloud (s3.us.cloud-object-storage.appdomain.cloud)|67.228.254.196|:443... connected.\n",
      "HTTP request sent, awaiting response... 200 OK\n",
      "Length: 73917638 (70M) [text/csv]\n",
      "Saving to: ‘DataCollision.csv’\n",
      "\n",
      "DataCollision.csv    21%[===>                ]  14.96M   504KB/s    eta 2m 22s "
     ]
    }
   ],
   "source": [
    "# download the dataset\n",
    "!wget -O DataCollision.csv https://s3.us.cloud-object-storage.appdomain.cloud/cf-courses-data/CognitiveClass/DP0701EN/version-2/Data-Collisions.csv"
   ]
  },
  {
   "cell_type": "code",
   "execution_count": null,
   "metadata": {},
   "outputs": [],
   "source": [
    "# read the dataset into dataframe \n",
    "df = pd.read_csv('DataCollision.csv')\n",
    "print(df.shape)\n",
    "df.head(2)"
   ]
  },
  {
   "cell_type": "code",
   "execution_count": null,
   "metadata": {},
   "outputs": [],
   "source": [
    "df.groupby(['SEVERITYDESC'])['SEVERITYCODE'].value_counts()"
   ]
  },
  {
   "cell_type": "code",
   "execution_count": null,
   "metadata": {},
   "outputs": [],
   "source": [
    "df.SEVERITYCODE.value_counts().plot(kind='bar', color='r')\n",
    "plt.title('Collisions Severity')\n",
    "plt.xlabel('Severity Code')\n",
    "plt.ylabel('Number of Collisions')"
   ]
  },
  {
   "cell_type": "markdown",
   "metadata": {},
   "source": [
    "## Feature Selection"
   ]
  },
  {
   "cell_type": "code",
   "execution_count": null,
   "metadata": {},
   "outputs": [],
   "source": [
    "#Dropping irrelevant unique IDs\n",
    "df = df.drop(columns=[\"SEVERITYDESC\", \"SEVERITYCODE.1\", \"EXCEPTRSNCODE\",\n",
    "                      \"EXCEPTRSNDESC\", \"INCKEY\", \"COLDETKEY\", \"INTKEY\", \n",
    "                      \"SEGLANEKEY\", \"CROSSWALKKEY\", \"REPORTNO\", \"OBJECTID\"])\n",
    "\n",
    "df.head(2)"
   ]
  },
  {
   "cell_type": "code",
   "execution_count": null,
   "metadata": {},
   "outputs": [],
   "source": [
    "#Dropping irrelevant features.\n",
    "df = df.drop(columns=[\"ADDRTYPE\", \"LOCATION\", \"PEDROWNOTGRNT\", \n",
    "                      \"HITPARKEDCAR\", \"SDOT_COLCODE\",\"SDOT_COLDESC\", \n",
    "                      \"SDOTCOLNUM\", \"ST_COLDESC\",\n",
    "                      \"PERSONCOUNT\", \"PEDCOUNT\", \"PEDCYLCOUNT\", \n",
    "                      \"COLLISIONTYPE\", \"VEHCOUNT\", \"STATUS\", \"INCDATE\"])\n",
    "\n",
    "df.head(2)"
   ]
  },
  {
   "cell_type": "markdown",
   "metadata": {},
   "source": [
    "## Data Cleaning"
   ]
  },
  {
   "cell_type": "code",
   "execution_count": null,
   "metadata": {},
   "outputs": [],
   "source": [
    "print(\"Longitude has\", df[\"X\"].isna().sum(), \"missing values.\")\n",
    "print(\"Latitude has\", df[\"Y\"].isna().sum(), \"missing values.\")"
   ]
  },
  {
   "cell_type": "code",
   "execution_count": null,
   "metadata": {},
   "outputs": [],
   "source": [
    "print(\"Longitude has a mean of %.5f\" % df[\"X\"].mean(), \".\")\n",
    "print(\"Latitude has a mean o %.5f\" % df[\"Y\"].mean(), \".\")"
   ]
  },
  {
   "cell_type": "code",
   "execution_count": null,
   "metadata": {},
   "outputs": [],
   "source": [
    "avg_X = df[\"X\"].astype(\"float\").mean()\n",
    "df[\"X\"].fillna(avg_X, inplace=True)\n",
    "avg_Y = df[\"Y\"].astype(\"float\").mean()\n",
    "df[\"Y\"].fillna(avg_Y, inplace=True)\n",
    "print(df[\"X\"].value_counts())\n",
    "print(df[\"X\"].isna().sum())"
   ]
  },
  {
   "cell_type": "markdown",
   "metadata": {},
   "source": [
    "## Exploratory Data Analysis"
   ]
  },
  {
   "cell_type": "markdown",
   "metadata": {},
   "source": [
    "### Relationship between location and collision severity"
   ]
  },
  {
   "cell_type": "code",
   "execution_count": null,
   "metadata": {
    "scrolled": true
   },
   "outputs": [],
   "source": [
    "!conda install -c conda-forge folium=0.5.0 --yes\n",
    "import folium\n",
    "\n",
    "# define the world map centered around Seattle with a high zoom level\n",
    "seattle_map = folium.Map(location=[47.6062, -122.3321], zoom_start=12)\n",
    "\n",
    "df[\"XY\"] = df[\"X\"].astype(str) + \", \" + df[\"Y\"].astype(str)\n",
    "\n",
    "#This counts the number of times a collision has occured in each location with coordinates XY and assigns\n",
    "#the \"hotspots\" where there has been more than 100 collisions.\n",
    "v = df.XY.value_counts()\n",
    "collisions = df[df.XY.isin(v.index[v.gt(100)])]\n",
    "\n",
    "# loop through collisions and add each to the map\n",
    "numCollisions = len(collisions.index)\n",
    "numCollisionsAddedToMap = 0\n",
    "for lat, lng in zip(collisions[\"Y\"], collisions[\"X\"]):\n",
    "    folium.features.CircleMarker(\n",
    "        [lat, lng],\n",
    "        radius=5, # define how big you want the circle markers to be\n",
    "        color='yellow',\n",
    "        fill=True,\n",
    "        fill_color='blue',\n",
    "        fill_opacity=0.6\n",
    "    ).add_to(seattle_map)\n",
    "    \n",
    "    numCollisionsAddedToMap = numCollisionsAddedToMap + 1\n",
    "\n",
    "    print(\"Loading: \" + str(round(((numCollisionsAddedToMap / numCollisions) * 100), 2)) + \"%\", end=\"\\r\")\n",
    "\n",
    "\n",
    "#obtaining the collisions hotspots comprising of class 2 collisions.    \n",
    "class2Collisions = collisions[collisions.SEVERITYCODE == 2]\n",
    "\n",
    "#loop through all class 2 collisions and add each to the map in red.\n",
    "numCollisions = len(class2Collisions.index)\n",
    "numCollisionsAddedToMap = 0\n",
    "for lat, lng in zip(class2Collisions[\"Y\"], class2Collisions[\"X\"]):\n",
    "    folium.features.CircleMarker(\n",
    "        [lat, lng],\n",
    "        radius=5, # define how big you want the circle markers to be\n",
    "        color='red',\n",
    "        fill=True,\n",
    "        fill_color='red',\n",
    "        fill_opacity=0.6\n",
    "    ).add_to(seattle_map)\n",
    "    \n",
    "    numCollisionsAddedToMap = numCollisionsAddedToMap + 1\n",
    "\n",
    "    print(\"Loading: \" + str(round(((numCollisionsAddedToMap / numCollisions) * 100), 2)) + \"%\", end=\"\\r\")\n",
    "\n",
    "#Drop the XY column as this is no longer needed\n",
    "df = df.drop(columns=[\"XY\"])"
   ]
  },
  {
   "cell_type": "code",
   "execution_count": null,
   "metadata": {},
   "outputs": [],
   "source": [
    "# show map\n",
    "seattle_map"
   ]
  },
  {
   "cell_type": "markdown",
   "metadata": {},
   "source": [
    "### Relationship between junction type and collision severity"
   ]
  },
  {
   "cell_type": "code",
   "execution_count": null,
   "metadata": {},
   "outputs": [],
   "source": [
    "!conda install seaborn --yes\n",
    "import seaborn as sb\n",
    "\n",
    "order = df[\"JUNCTIONTYPE\"].value_counts().to_frame()\n",
    "ax = sb.countplot(y=\"JUNCTIONTYPE\", hue=\"SEVERITYCODE\", order=order.index, data=df)\n",
    "ax.set(xlabel='Number of Collisions', ylabel=\"Type of Junction\")\n",
    "\n",
    "print(df.groupby(['JUNCTIONTYPE'])['SEVERITYCODE'].value_counts())"
   ]
  },
  {
   "cell_type": "markdown",
   "metadata": {},
   "source": [
    "### Relationship between the weather and collision severity"
   ]
  },
  {
   "cell_type": "code",
   "execution_count": null,
   "metadata": {},
   "outputs": [],
   "source": [
    "order = df[\"WEATHER\"].value_counts().to_frame()\n",
    "ax = sb.countplot(y=\"WEATHER\", hue=\"SEVERITYCODE\", order=order.index, data=df)\n",
    "ax.set(xlabel='Number of Collisions', ylabel=\"Weather Condition\")\n",
    "\n",
    "print(df.groupby(['SEVERITYCODE'])['WEATHER'].value_counts())"
   ]
  },
  {
   "cell_type": "code",
   "execution_count": null,
   "metadata": {},
   "outputs": [],
   "source": [
    "df[\"WEATHER\"].replace(np.NaN, \"Clear\", inplace=True)\n",
    "df[\"WEATHER\"].replace(\"Other\", \"Unknown\", inplace=True)\n",
    "df[\"WEATHER\"].replace(\"Unknown\", \"Unknown Weather\", inplace=True)\n",
    "df[\"WEATHER\"].replace(\"Partly Cloudy\", \"Overcast\", inplace=True)\n",
    "df = pd.concat([df,pd.get_dummies(df['WEATHER'])], axis=1)\n",
    "df.drop([\"WEATHER\"],axis=1, inplace=True)\n",
    "df.head()"
   ]
  },
  {
   "cell_type": "markdown",
   "metadata": {},
   "source": [
    "### Relationship between the road conditions and the collision severity"
   ]
  },
  {
   "cell_type": "code",
   "execution_count": null,
   "metadata": {},
   "outputs": [],
   "source": [
    "order = df[\"ROADCOND\"].value_counts().to_frame()\n",
    "ax = sb.countplot(y=\"ROADCOND\", hue=\"SEVERITYCODE\", order=order.index, data=df)\n",
    "ax.set(xlabel='Number of Collisions', ylabel=\"Road Condition\")\n",
    "\n",
    "print(df.groupby(['SEVERITYCODE'])['ROADCOND'].value_counts())"
   ]
  },
  {
   "cell_type": "code",
   "execution_count": null,
   "metadata": {},
   "outputs": [],
   "source": [
    "df[\"ROADCOND\"].replace(np.NaN, \"Dry\", inplace=True)\n",
    "df[\"ROADCOND\"].replace(\"Other\", \"Unknown\", inplace=True)\n",
    "df[\"ROADCOND\"].replace(\"Unknown\", \"Unknown Roadcond\", inplace=True)\n",
    "df = pd.concat([df,pd.get_dummies(df['ROADCOND'])], axis=1)\n",
    "df.drop([\"ROADCOND\"],axis=1, inplace=True)\n",
    "df.head()"
   ]
  },
  {
   "cell_type": "code",
   "execution_count": null,
   "metadata": {},
   "outputs": [],
   "source": []
  }
 ],
 "metadata": {
  "kernelspec": {
   "display_name": "Python 3",
   "language": "python",
   "name": "python3"
  },
  "language_info": {
   "codemirror_mode": {
    "name": "ipython",
    "version": 3
   },
   "file_extension": ".py",
   "mimetype": "text/x-python",
   "name": "python",
   "nbconvert_exporter": "python",
   "pygments_lexer": "ipython3",
   "version": "3.7.7"
  }
 },
 "nbformat": 4,
 "nbformat_minor": 4
}
