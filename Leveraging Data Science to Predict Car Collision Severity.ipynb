{
 "cells": [
  {
   "cell_type": "markdown",
   "metadata": {},
   "source": [
    "<h1><center>Leveraging Data Science to Predict Car Collision Severity</center></h1>\n",
    "<h3><center>An analysis of car collision data in Seattle from 2004-2020</center></h3>\n",
    "<h4><center>Theo Hayeck</center></h4>"
   ]
  },
  {
   "cell_type": "markdown",
   "metadata": {},
   "source": [
    "## Introduction\n",
    "In 2015, the Seattle Department of Transportation (SDOT) released a 10-year plan for providing safe and sustainable transportation infrastructure for the city. A \"Vision Zero\" goal was adopted to eliminate serious and fatal crashes by the year 2030. However, since the release of the plan, the annual total number of collisions has only decreased by 27.6%, with the total number of severe collisions (where a collision results in an injury or a fatality) has decreased by only 18.4%, and making up a larger proportion of all recorded incidents annually.\n",
    "\n",
    "These findings suggest that while the initiatives implemented by the Seattle Department of Transportation to reduce collisions were successful to a point, there are still improvements that could be made by more accurately targeting the causes of such collisions; such as: weather conditions, speeding regulations and light conditions."
   ]
  },
  {
   "cell_type": "code",
   "execution_count": null,
   "metadata": {},
   "outputs": [],
   "source": []
  }
 ],
 "metadata": {
  "kernelspec": {
   "display_name": "Python 3",
   "language": "python",
   "name": "python3"
  },
  "language_info": {
   "codemirror_mode": {
    "name": "ipython",
    "version": 3
   },
   "file_extension": ".py",
   "mimetype": "text/x-python",
   "name": "python",
   "nbconvert_exporter": "python",
   "pygments_lexer": "ipython3",
   "version": "3.7.7"
  }
 },
 "nbformat": 4,
 "nbformat_minor": 4
}
